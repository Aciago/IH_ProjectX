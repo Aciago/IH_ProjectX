{
 "cells": [
  {
   "cell_type": "markdown",
   "metadata": {},
   "source": [
    "## Data Analytics project with Darewise"
   ]
  },
  {
   "cell_type": "markdown",
   "metadata": {},
   "source": [
    "### Steps to take (recommendation):\n",
    "1) Prepare the workflow:\n",
    "    - Main Stats\n",
    "    - Main features to Analyze\n",
    "    - Crosstabs\\pre-viz of raw data that can be seen interesting beforehand\n",
    "    \n",
    "2) Think of quieries and python scripts that would allow you to get step 1. <div>\n",
    "3) Think of the best way to express any findings from step 1 visually (seaborn\\tableau\\plotly) <div>\n",
    "4) Consider the bottlenecks that might happen along the way and try to find solutions before diving into data. <div>\n",
    "5) Create a roadmap (what to do, by when)"
   ]
  },
  {
   "cell_type": "markdown",
   "metadata": {},
   "source": [
    "Darewise goals:\n",
    "    - General data exploration\n",
    "    - Clustering players in order to understand them more\n",
    "    - Retention\n",
    "    - Session times"
   ]
  },
  {
   "cell_type": "markdown",
   "metadata": {},
   "source": [
    "## WORKFLOW "
   ]
  },
  {
   "cell_type": "markdown",
   "metadata": {},
   "source": [
    "**Main stats are:**\n",
    "Playtime, Session time, User count, Ingame actions, User reports (bugs, accolades, feedback)\n",
    "\n",
    "Analysis of:\n",
    "    - Who are our players?\n",
    "    - Player retention\n",
    "    - Player clustering \n",
    "    - Any POI in the data\n",
    "    - Probable dashboard to have a large scale overview?\n",
    "    \n",
    "Pre-viz of raw data:\n",
    "    - Distributions\n",
    "    - Player actions in the game\n",
    "    - Retention of players invited into alpha, invite waves success (correlations, trends with actions in mind). \n",
    "    \n",
    "    "
   ]
  },
  {
   "cell_type": "raw",
   "metadata": {},
   "source": [
    "## Bottlenecks\n",
    "\n",
    "Google Cloud - how to get data out and into Python?\n",
    "\n",
    "Insufficient documentation - what to do with variables\\columns we don't have description of?\n",
    "Development vs live in \"events\" table - clarify with Sebastien\n",
    "\n",
    "Visualizations (both raw data and final data) - how to approach this one? viewable online, saved as file?"
   ]
  },
  {
   "cell_type": "markdown",
   "metadata": {},
   "source": [
    "# ROADMAP"
   ]
  },
  {
   "cell_type": "markdown",
   "metadata": {},
   "source": [
    "1) Data collection (google cloud)\n",
    "2) Inspect and understand what we have at hand\n",
    "3) Find optimal viz for raw data (different from GCloud one)\n",
    "4) Clean data according to our needs\n",
    "5) "
   ]
  },
  {
   "cell_type": "code",
   "execution_count": null,
   "metadata": {},
   "outputs": [],
   "source": [
    "# libraries\n",
    "\n",
    "import pandas as pd\n",
    "import numpy as np\n",
    "\n",
    "from pandas import json_normalize\n",
    "import json\n",
    "\n",
    "import matplotlib.pyplot as plt\n",
    "import seaborn as sns\n",
    "%matplotlib inline\n",
    "from mpl_toolkits.mplot3d import Axes3D\n",
    " \n",
    "import plotly\n",
    "import plotly.express as px\n",
    "import plotly.graph_objects as go\n",
    "from plotly.subplots import make_subplots\n",
    "\n",
    "from wordcloud import WordCloud"
   ]
  },
  {
   "cell_type": "code",
   "execution_count": null,
   "metadata": {},
   "outputs": [],
   "source": [
    "\"\"\"df['ds']=pd.to_datetime(df.ds)\n",
    "df.sort_values(by='ds')\"\"\""
   ]
  },
  {
   "cell_type": "raw",
   "metadata": {},
   "source": [
    "building vs shooting vs looting overall\n",
    "building vs shooting vs looting during first session\n",
    "movement ideas (heatmap, look into something else)\n",
    "\n",
    "oblako slov"
   ]
  },
  {
   "cell_type": "code",
   "execution_count": null,
   "metadata": {},
   "outputs": [],
   "source": [
    "df2 = pd.read_csv('C:/Users/aciag/ih/FINAL_project/raw_data/Session_stats_raw.csv')\n",
    "df3 = pd.read_csv('C:/Users/aciag/ih/FINAL_project/raw_data/Resources_and_outposts_raw.csv')\n",
    "df4 = pd.read_csv('C:/Users/aciag/ih/FINAL_project/raw_data/registrations_by_day_raw.csv')\n",
    "df5 = pd.read_csv('C:/Users/aciag/ih/FINAL_project/raw_data/players_raw.csv')\n",
    "df6 = pd.read_csv('C:/Users/aciag/ih/FINAL_project/raw_data/players_stats_raw.csv')\n",
    "df7 = pd.read_csv('C:/Users/aciag/ih/FINAL_project/raw_data/player_session_rank_raw.csv')\n",
    "df8 = pd.read_csv('C:/Users/aciag/ih/FINAL_project/raw_data/player_sessions_raw.csv')\n",
    "df9 = pd.read_csv('C:/Users/aciag/ih/FINAL_project/raw_data/player_feedbacks_raw.csv')\n",
    "df10 = pd.read_csv('C:/Users/aciag/ih/FINAL_project/raw_data/player_events_by_day_raw.csv')\n",
    "df11 = pd.read_csv('C:/Users/aciag/ih/FINAL_project/raw_data/outpost_creation_by_day_raw.csv')\n",
    "df12 = pd.read_csv('C:/Users/aciag/ih/FINAL_project/raw_data/gather_resources_by_day_raw.csv')\n",
    "df13 = pd.read_csv('C:/Users/aciag/ih/FINAL_project/raw_data/first_sessions_by_day_raw.csv')\n",
    "df14 = pd.read_csv('C:/Users/aciag/ih/FINAL_project/raw_data/first_sessions_raw.csv')\n",
    "df15 = pd.read_csv('C:/Users/aciag/ih/FINAL_project/raw_data/ccu_minute_max_per_hour_view_raw.csv')\n",
    "df16 = pd.read_csv('C:/Users/aciag/ih/FINAL_project/raw_data/dau_uniques_view_raw.csv')\n",
    "df17 = pd.read_csv('C:/Users/aciag/ih/FINAL_project/raw_data/growth_accounting_raw.csv')\n",
    "df18 = pd.read_csv('C:/Users/aciag/ih/FINAL_project/raw_data/player_activity_view_raw.csv')\n",
    "df19 = pd.read_csv('C:/Users/aciag/ih/FINAL_project/raw_data/retention_agg_overall_raw.csv')\n",
    "df20 = pd.read_csv('C:/Users/aciag/ih/FINAL_project/raw_data/retention_agg_wave_raw.csv')\n",
    "df21 = pd.read_csv('C:/Users/aciag/ih/FINAL_project/raw_data/retention_agg_wave_week_raw.csv')\n",
    "df22 = pd.read_csv('C:/Users/aciag/ih/FINAL_project/raw_data/retention_agg_week_raw.csv')\n",
    "df23 = pd.read_csv('C:/Users/aciag/ih/FINAL_project/raw_data/session_times_view_raw.csv')\n",
    "df24 = pd.read_csv('C:/Users/aciag/ih/FINAL_project/raw_data/events_batch_automatic_raw.csv')\n",
    "df25 = pd.read_csv('C:/Users/aciag/ih/FINAL_project/raw_data/events_batch_automatic_view_raw.csv')"
   ]
  },
  {
   "cell_type": "code",
   "execution_count": null,
   "metadata": {},
   "outputs": [],
   "source": [
    "#dropping empty column in each df\n",
    "\n",
    "df2.drop(columns=['Unnamed: 0'],axis=1,inplace=True)\n",
    "df3.drop(columns=['Unnamed: 0'],axis=1,inplace=True)\n",
    "df4.drop(columns=['Unnamed: 0'],axis=1,inplace=True)\n",
    "df5.drop(columns=['Unnamed: 0'],axis=1,inplace=True)\n",
    "df6.drop(columns=['Unnamed: 0'],axis=1,inplace=True)\n",
    "df7.drop(columns=['Unnamed: 0'],axis=1,inplace=True)\n",
    "df8.drop(columns=['Unnamed: 0'],axis=1,inplace=True)\n",
    "df9.drop(columns=['Unnamed: 0'],axis=1,inplace=True)\n",
    "df10.drop(columns=['Unnamed: 0'],axis=1,inplace=True)\n",
    "df11.drop(columns=['Unnamed: 0'],axis=1,inplace=True)\n",
    "df12.drop(columns=['Unnamed: 0'],axis=1,inplace=True)\n",
    "df13.drop(columns=['Unnamed: 0'],axis=1,inplace=True)\n",
    "df14.drop(columns=['Unnamed: 0'],axis=1,inplace=True)\n",
    "df15.drop(columns=['Unnamed: 0'],axis=1,inplace=True)\n",
    "df16.drop(columns=['Unnamed: 0'],axis=1,inplace=True)\n",
    "df17.drop(columns=['Unnamed: 0'],axis=1,inplace=True)\n",
    "df18.drop(columns=['Unnamed: 0'],axis=1,inplace=True)\n",
    "df19.drop(columns=['Unnamed: 0'],axis=1,inplace=True)\n",
    "df20.drop(columns=['Unnamed: 0'],axis=1,inplace=True)\n",
    "df21.drop(columns=['Unnamed: 0'],axis=1,inplace=True)\n",
    "df22.drop(columns=['Unnamed: 0'],axis=1,inplace=True)\n",
    "df23.drop(columns=['Unnamed: 0'],axis=1,inplace=True)\n",
    "df24.drop(columns=['Unnamed: 0'],axis=1,inplace=True)\n",
    "df25.drop(columns=['Unnamed: 0'],axis=1,inplace=True)"
   ]
  },
  {
   "cell_type": "markdown",
   "metadata": {},
   "source": [
    "# VIZ of raw data"
   ]
  },
  {
   "cell_type": "code",
   "execution_count": null,
   "metadata": {},
   "outputs": [],
   "source": [
    "?px.bar"
   ]
  },
  {
   "cell_type": "code",
   "execution_count": null,
   "metadata": {
    "scrolled": false
   },
   "outputs": [],
   "source": [
    "# Daily activity of players, per day of the week\n",
    "\n",
    "df2['ds']=pd.to_datetime(df2.ds)\n",
    "df2.sort_values(by='ds')\n",
    "\n",
    "fig = px.bar(df2, x=df2.ds.dt.dayofweek, y=df2.total_daily_sessions_count)\n",
    "fig.update_layout(\n",
    "    title={\n",
    "        'text': 'Daily activity',\n",
    "        'y':0.95,\n",
    "        'x':0.5,\n",
    "        'xanchor': 'center',\n",
    "        'yanchor': 'top'},\n",
    "    xaxis_title_text='Day of the week',\n",
    "    yaxis_title_text='Amount of play sessions',\n",
    "    xaxis = dict(\n",
    "        tickmode = 'array',\n",
    "        tickvals = [0,1,2,3,4,5,6],\n",
    "        ticktext = ['Monday', 'Tuesday', 'Wednesday', 'Thursday', 'Friday', 'Saturday', 'Sunday']\n",
    "    ),\n",
    "    barmode='overlay'\n",
    ")\n",
    "\n",
    "\n",
    "fig.show()"
   ]
  },
  {
   "cell_type": "code",
   "execution_count": null,
   "metadata": {},
   "outputs": [],
   "source": [
    "\"\"\"# Comparison of ????????????????\n",
    "\n",
    "fig = go.Figure(data=[go.Histogram(\n",
    "         x=df2.avg_daily_sessions_count,\n",
    "         name='Avg daily sessions')\n",
    "])\n",
    "\n",
    "#        xbins=dict(start=0,\n",
    "#                    end=100,\n",
    "#                    size=5)\n",
    "\n",
    "#fig.add_trace(go.Histogram(x=df['overall'], name='2015'))\n",
    "fig.add_trace(go.Histogram(x=df2.total_daily_sessions_count, name='Total daily sessions'))\n",
    "fig.update_layout(\n",
    "    title_text='1 vs 2',\n",
    "    xaxis_title_text='x',\n",
    "    yaxis_title_text='y',\n",
    "    barmode='overlay'\n",
    ")\n",
    "fig.update_traces(opacity=0.4)\n",
    "fig.show()\"\"\""
   ]
  },
  {
   "cell_type": "code",
   "execution_count": null,
   "metadata": {},
   "outputs": [],
   "source": [
    "df2.head()"
   ]
  },
  {
   "cell_type": "code",
   "execution_count": null,
   "metadata": {},
   "outputs": [],
   "source": [
    "# Distribution of session play time stats. Adjust labels for visibity!!!\n",
    "sns.set(font_scale=1, style='darkgrid', palette='deep', font='sans-serif')\n",
    "\n",
    "sns.pairplot(df2, vars=['avg_daily_sessions_duration', 'avg_daily_sessions_count', 'total_daily_sessions_count',\n",
    "                       'avg_cumulative_sessions_duration', 'avg_cumulative_sessions_count',\n",
    "                        'total_daily_sessions_duration', 'cumulative_sessions_duration'],\n",
    "             kind=\"scatter\", diag_kind='kde', height=4, dropna=True)\n",
    "plt.show()"
   ]
  },
  {
   "cell_type": "code",
   "execution_count": null,
   "metadata": {},
   "outputs": [],
   "source": [
    "\"\"\"fig = px.scatter_matrix(df2,\n",
    "    dimensions=[\"avg_daily_sessions_duration\", 'avg_daily_sessions_count', 'total_daily_sessions_count',\n",
    "                'avg_cumulative_sessions_duration', 'avg_cumulative_sessions_count',\n",
    "                'total_daily_sessions_duration', 'cumulative_sessions_duration'])\n",
    "\n",
    "fig.show()\"\"\"\n",
    "\n",
    "# bad viz for this kind of data\n",
    "\"\"\"#plt.rcParams[\"figure.figsize\"] = (15,15)\n",
    "\n",
    "df2.hist(figsize=(15,15), color='red', edgecolor='black', linewidth=0.5, xlabelsize=10, ylabelsize=10, grid=False)\n",
    "plt.show()\n",
    "\n",
    "# TITLE - session stats\"\"\""
   ]
  },
  {
   "cell_type": "code",
   "execution_count": null,
   "metadata": {},
   "outputs": [],
   "source": [
    "fig = go.Figure(data=go.Scatter(x=df4.ds, y=df4.no_registrations))\n",
    "\n",
    "fig.update_layout(title={\n",
    "        'text': 'Number of new registrations',\n",
    "        'y':0.85,\n",
    "        'x':0.5,\n",
    "        'xanchor': 'center',\n",
    "        'yanchor': 'top'}, xaxis_title='Date', yaxis_title='Users')\n",
    "\n",
    "fig.show()"
   ]
  },
  {
   "cell_type": "code",
   "execution_count": null,
   "metadata": {},
   "outputs": [],
   "source": [
    "# viz relationship between 1st session and overall playtime\n",
    "fig = px.scatter_matrix(df6, dimensions=[\"first_session_playtime\", \"total_playtime\"])\n",
    "\n",
    "fig.update_layout(title={\n",
    "        'text': 'First session length vs Total playtime',\n",
    "        'y':0.93,\n",
    "        'x':0.5,\n",
    "        'xanchor': 'center',\n",
    "        'yanchor': 'top'})\n",
    "\n",
    "fig.show()"
   ]
  },
  {
   "cell_type": "code",
   "execution_count": null,
   "metadata": {},
   "outputs": [],
   "source": [
    "# viz of Building vs Gathering\n",
    "\n",
    "fig = px.scatter_matrix(df6, dimensions=['outpost_buildings', 'resources_gathered'])\n",
    "\n",
    "fig.update_layout(title={\n",
    "        'text': 'Building vs Gathering',\n",
    "        'y':0.93,\n",
    "        'x':0.5,\n",
    "        'xanchor': 'center',\n",
    "        'yanchor': 'top'})\n",
    "\n",
    "fig.show()"
   ]
  },
  {
   "cell_type": "code",
   "execution_count": null,
   "metadata": {},
   "outputs": [],
   "source": [
    "\"\"\"fig = px.scatter_matrix(df23,\n",
    "    dimensions=['avg_session_time', 'median_session_time', 'no_sessions', 'rolling_avg_l7d_median_session_time'])\n",
    "fig.show()\"\"\""
   ]
  },
  {
   "cell_type": "code",
   "execution_count": null,
   "metadata": {},
   "outputs": [],
   "source": [
    "# viz of DAU vs Unique users\n",
    "\n",
    "fig = go.Figure()\n",
    "\n",
    "fig.add_trace(go.Scatter(x=df16.ds, y=df16.dau, name='Daily active users'))\n",
    "fig.add_trace(go.Scatter(x=df16.ds, y=df16.all_time_unique, name='Unique users overall'))\n",
    "\n",
    "fig.update_layout(title={\n",
    "        'text': 'Daily active users and Total unique users',\n",
    "        'y':0.86,\n",
    "        'x':0.5,\n",
    "        'xanchor': 'center',\n",
    "        'yanchor': 'top'},\n",
    "         xaxis_title='Date',\n",
    "         yaxis_title='Users',\n",
    "         legend_orientation=\"h\")\n",
    "\n",
    "fig.show()"
   ]
  },
  {
   "cell_type": "code",
   "execution_count": null,
   "metadata": {
    "scrolled": true
   },
   "outputs": [],
   "source": [
    "df_top = df14.nlargest(10, ['duration'])"
   ]
  },
  {
   "cell_type": "code",
   "execution_count": null,
   "metadata": {
    "scrolled": true
   },
   "outputs": [],
   "source": []
  },
  {
   "cell_type": "code",
   "execution_count": null,
   "metadata": {},
   "outputs": [],
   "source": [
    "# Viz top10 first play sessions. Add text to values, cross-viz with avg 1st session time?\n",
    "\n",
    "fig = px.bar(df_top, x=df_top['rank'], y=df_top['duration'])\n",
    "\n",
    "fig.update_layout(title={\n",
    "        'text': 'Top 10 first play sessions',\n",
    "        'y':0.93,\n",
    "        'x':0.5,\n",
    "        'xanchor': 'center',\n",
    "        'yanchor': 'top'},\n",
    "         xaxis_title='Player rank',\n",
    "         yaxis_title='Lenght of the session',\n",
    "        xaxis = dict(\n",
    "        tickmode = 'array',\n",
    "        tickvals = [1,2,3,4,5,6,7,8,9,10],\n",
    "        ticktext = ['1', '2', '3', '4', '5', '6', '7', '8', '9', '10']))\n",
    "\n",
    "\n",
    "fig.show()"
   ]
  },
  {
   "cell_type": "code",
   "execution_count": null,
   "metadata": {},
   "outputs": [],
   "source": [
    "# https://python-graph-gallery.com/2d-density-plot/\n",
    "\n",
    "coords = pd.read_csv('C:/Users/aciag/ih/FINAL_project/data/interactions_coords.csv')\n",
    "\n",
    "# Players interactions heatmap\n",
    "   \n",
    "plt.figure(figsize=(14, 11))\n",
    "\n",
    "sns.kdeplot(coords.x, coords.y, cmap='Reds', shade=True, shade_lowest=True)\n",
    "\n",
    "plt.xlabel('')\n",
    "plt.ylabel('')\n",
    "plt.xticks(ticks=[])\n",
    "plt.yticks(ticks=[])\n",
    "plt.title(label='Heatmap of activity', fontsize=18, loc='center')\n",
    "\n",
    "plt.show();"
   ]
  },
  {
   "cell_type": "code",
   "execution_count": null,
   "metadata": {},
   "outputs": [],
   "source": [
    "# https://python-graph-gallery.com/2d-density-plot/\n",
    "\n",
    "coords1 = pd.read_csv('C:/Users/aciag/ih/FINAL_project/data/coords2.csv')\n",
    "coords1 = coords1.drop(['Unnamed: 0'],axis=1)\n",
    "\n",
    "# Players interactions heatmap\n",
    "   \n",
    "plt.figure(figsize=(14, 11))\n",
    "\n",
    "sns.kdeplot(coords1.x, coords1.y, cmap='Reds', shade=True, shade_lowest=True)\n",
    "\n",
    "plt.xlabel('')\n",
    "plt.ylabel('')\n",
    "plt.xticks(ticks=[])\n",
    "plt.yticks(ticks=[])\n",
    "plt.title(label='Heatmap of activity', fontsize=18, loc='center')\n",
    "\n",
    "plt.show();"
   ]
  },
  {
   "cell_type": "code",
   "execution_count": null,
   "metadata": {},
   "outputs": [],
   "source": []
  },
  {
   "cell_type": "code",
   "execution_count": null,
   "metadata": {},
   "outputs": [],
   "source": [
    "# plot of players activity by height\n",
    "fig = plt.figure(figsize=(20,15))\n",
    "\n",
    "ax = fig.add_subplot(111, projection='3d')\n",
    "ax.scatter(coords['x'], coords['y'], coords['z'], c='skyblue', s=60)\n",
    "ax.view_init(0, 90)\n",
    "\n",
    "plt.xlabel('X-movement')\n",
    "plt.ylabel('')\n",
    "ax.set_zlabel('Z-movement')\n",
    "\n",
    "plt.setp(ax.get_xticklabels(), visible=False)\n",
    "plt.setp(ax.get_yticklabels(), visible=False)\n",
    "plt.setp(ax.get_zticklabels(), visible=False)\n",
    "\n",
    "plt.xticks(ticks=[0])\n",
    "plt.yticks(ticks=[0])\n",
    "ax.set_zticks([0])\n",
    "\n",
    "plt.show()"
   ]
  },
  {
   "cell_type": "code",
   "execution_count": null,
   "metadata": {},
   "outputs": [],
   "source": [
    "# plot of players activity by left-right, omitting height\n",
    "fig = plt.figure(figsize=(20,15))\n",
    "\n",
    "ax = fig.add_subplot(111, projection='3d')\n",
    "ax.scatter(coords['x'], coords['y'], coords['z'], c='skyblue', s=60)\n",
    "ax.view_init(90, 0)\n",
    "\n",
    "plt.xlabel('X-movement')\n",
    "plt.ylabel('Y-movement')\n",
    "ax.set_zlabel('')\n",
    "\n",
    "plt.setp(ax.get_xticklabels(), visible=False)\n",
    "plt.setp(ax.get_yticklabels(), visible=False)\n",
    "plt.setp(ax.get_zticklabels(), visible=False)\n",
    "\n",
    "plt.xticks(ticks=[0])\n",
    "plt.yticks(ticks=[0])\n",
    "ax.set_zticks([0])\n",
    "\n",
    "plt.show()"
   ]
  },
  {
   "cell_type": "code",
   "execution_count": null,
   "metadata": {},
   "outputs": [],
   "source": [
    "# plot of players activity in 3d\n",
    "fig = plt.figure(figsize=(20,15))\n",
    "\n",
    "ax = fig.add_subplot(111, projection='3d')\n",
    "ax.scatter(coords['x'], coords['y'], coords['z'], c='red', s=60)\n",
    "ax.view_init(25, 45)\n",
    "\n",
    "plt.xlabel('X-movement')\n",
    "plt.ylabel('Y-movement')\n",
    "ax.set_zlabel('Z-movement')\n",
    "\n",
    "plt.setp(ax.get_xticklabels(), visible=False)\n",
    "plt.setp(ax.get_yticklabels(), visible=False)\n",
    "plt.setp(ax.get_zticklabels(), visible=False)\n",
    "\n",
    "plt.xticks(ticks=[0])\n",
    "plt.yticks(ticks=[0])\n",
    "ax.set_zticks([0])\n",
    "\n",
    "plt.show()"
   ]
  },
  {
   "cell_type": "code",
   "execution_count": null,
   "metadata": {},
   "outputs": [],
   "source": [
    "# plot of players activity in 3d\n",
    "fig = plt.figure(figsize=(20,15))\n",
    "\n",
    "ax = fig.add_subplot(111, projection='3d')\n",
    "ax.scatter(coords1['x'], coords1['y'], coords1['z'], c='red', s=60)\n",
    "ax.view_init(25, 45)\n",
    "\n",
    "plt.xlabel('X-movement')\n",
    "plt.ylabel('Y-movement')\n",
    "ax.set_zlabel('Z-movement')\n",
    "\n",
    "plt.setp(ax.get_xticklabels(), visible=False)\n",
    "plt.setp(ax.get_yticklabels(), visible=False)\n",
    "plt.setp(ax.get_zticklabels(), visible=False)\n",
    "\n",
    "plt.xticks(ticks=[0])\n",
    "plt.yticks(ticks=[0])\n",
    "ax.set_zticks([0])\n",
    "\n",
    "plt.show()"
   ]
  },
  {
   "cell_type": "code",
   "execution_count": null,
   "metadata": {},
   "outputs": [],
   "source": [
    "# 3d plot comparing two different positional datasets\n",
    "\n",
    "\n",
    "fig = plt.figure(figsize=(20,15))\n",
    "\n",
    "ax = fig.add_subplot(111, projection='3d')\n",
    "\n",
    "\n",
    "ax.scatter(coords1.x, coords1.y, coords1.z, marker='x',\n",
    "color='blue', alpha=1, label='actions type 1')\n",
    "\n",
    "ax.scatter(coords.x, coords.y, coords.z, marker='o',\n",
    "color='red', alpha=1, label='actions type 2')\n",
    "\n",
    "ax.view_init(25, 45)\n",
    "\n",
    "plt.xlabel('X-movement')\n",
    "plt.ylabel('Y-movement')\n",
    "ax.set_zlabel('Z-movement')\n",
    "\n",
    "plt.setp(ax.get_xticklabels(), visible=False)\n",
    "plt.setp(ax.get_yticklabels(), visible=False)\n",
    "plt.setp(ax.get_zticklabels(), visible=False)\n",
    "\n",
    "plt.xticks(ticks=[0])\n",
    "plt.yticks(ticks=[0])\n",
    "ax.set_zticks([0])\n",
    "\n",
    "plt.show()"
   ]
  },
  {
   "cell_type": "code",
   "execution_count": null,
   "metadata": {},
   "outputs": [],
   "source": [
    "ax = plt.axes(projection='3d')\n",
    "ax.view_init(0, 45)\n",
    "\n",
    "ax.plot_trisurf(coords.x, coords.y, coords.z, cmap='viridis', edgecolor='red');"
   ]
  },
  {
   "cell_type": "code",
   "execution_count": null,
   "metadata": {},
   "outputs": [],
   "source": [
    "# Word cloud for feedback. Split into types of feedback?\n",
    "\n",
    "# Create a list of words\n",
    "txt = df9['description'].astype(str).tolist()\n",
    "txt = ''.join(txt)\n",
    "\n",
    "# Create the wordcloud object\n",
    "wordcloud = WordCloud(width=1000, height=1000, margin=1, max_words=100,\n",
    "                      background_color='black', normalize_plurals=True).generate(txt)"
   ]
  },
  {
   "cell_type": "code",
   "execution_count": null,
   "metadata": {},
   "outputs": [],
   "source": [
    "# Display the generated image:\n",
    "plt.imshow(wordcloud, interpolation='lanczos')\n",
    "plt.axis(\"off\")\n",
    "plt.rcParams[\"figure.figsize\"] = (70,70)\n",
    "plt.margins(x=5, y=5)\n",
    "plt.show()"
   ]
  },
  {
   "cell_type": "code",
   "execution_count": null,
   "metadata": {},
   "outputs": [],
   "source": [
    "# sns.lmplot(x=\"nb_events\", y=\"duration\", data=df8, fit_reg=False, hue='player_wave', legend=False, palette=\"Set1\")"
   ]
  },
  {
   "cell_type": "markdown",
   "metadata": {},
   "source": [
    "# Cleaning"
   ]
  },
  {
   "cell_type": "code",
   "execution_count": null,
   "metadata": {},
   "outputs": [],
   "source": [
    "\"\"\"# Concatenating 2 dataframes into one (BUILDING AND GATHERING)\n",
    "#df12.head()\n",
    "df11.rename(columns={df11.columns[1]:'nb_buildings'}, inplace=True)\n",
    "df12.rename(columns={df12.columns[1]:'nb_resources'}, inplace=True)\n",
    "dft = pd.concat([df11,df12], axis=1)\n",
    "dft.to_csv('Buildings_Resources.csv')\"\"\""
   ]
  },
  {
   "cell_type": "code",
   "execution_count": null,
   "metadata": {},
   "outputs": [],
   "source": [
    "df = pd.read_csv('C:/Users/aciag/ih/FINAL_project/data/Buildings_Resources.csv')\n",
    "# coords = pd.read_csv('C:/Users/aciag/ih/FINAL_project/data/interactions_coords.csv')\n",
    "# already imported in viz part\n",
    "df.drop(['Unnamed: 0'], axis=1, inplace=True)\n",
    "df.head()"
   ]
  },
  {
   "cell_type": "code",
   "execution_count": null,
   "metadata": {},
   "outputs": [],
   "source": [
    "zx = pd.read_csv('C:/Users/aciag/ih/FINAL_project/data/unused/Playtesters_PreAlpha - Playtesters.csv',skiprows=1)"
   ]
  },
  {
   "cell_type": "code",
   "execution_count": null,
   "metadata": {},
   "outputs": [],
   "source": [
    "zx['The Legend of Zelda: Breath of the Wild'].value_counts()"
   ]
  },
  {
   "cell_type": "code",
   "execution_count": null,
   "metadata": {},
   "outputs": [],
   "source": [
    "#zx = zx.drop(['Comments', 'What is your email address?'],\n",
    "#             axis=1)\n",
    "\n",
    "cols = [3, 5, 7, 8, 15, 16, -1, -2, -3, -4]\n",
    "zx = zx.drop(zx.columns[cols],axis=1)"
   ]
  },
  {
   "cell_type": "code",
   "execution_count": null,
   "metadata": {},
   "outputs": [],
   "source": [
    "zx.columns"
   ]
  },
  {
   "cell_type": "code",
   "execution_count": null,
   "metadata": {},
   "outputs": [],
   "source": [
    "zx = zx.rename(columns={'Community Champion': 'Influencer', 'How old are you?': 'Age',\n",
    "                        'What is your preferred gaming platform?': 'Platform',\n",
    "                       'Will you be available to play Project C and share feedback with the development team over the next few weeks?': 'Agree_to_help',\n",
    "                        'Are you currently involved in an online gaming community? (Online gaming communities include but are not limited to subreddits about a specific game or several games, Discord servers, online web forums and Facebook pages.) ': 'Community_member',\n",
    "                        'What game are you playing most today (and why)?': 'Currently_playing',\n",
    "                       'When gaming, who do you like to play with most?': 'Playing_with_friends',\n",
    "                        'Pick the choice that best describes how you feel about PvP (player-versus-player) play in online games.': 'pvp'})"
   ]
  },
  {
   "cell_type": "code",
   "execution_count": null,
   "metadata": {},
   "outputs": [],
   "source": [
    "zx.to_csv('playtesters_clean.csv')"
   ]
  },
  {
   "cell_type": "code",
   "execution_count": null,
   "metadata": {},
   "outputs": [],
   "source": []
  },
  {
   "cell_type": "markdown",
   "metadata": {},
   "source": [
    "### normalizing json approach2"
   ]
  },
  {
   "cell_type": "code",
   "execution_count": null,
   "metadata": {},
   "outputs": [],
   "source": [
    "\"\"\"df24_2 = df24_2.drop(['eventEnvironment', 'eventIndex', 'eventSource', 'serverSessionId',\n",
    "                      'workerId', 'unixTimestamp', 'DeveloperId', 'HasRenamed', 'TaskType',\n",
    "                      'Parameter', 'TaskInstanceId', 'ScheduledByUserId', 'IsAborted'], axis=1)\"\"\""
   ]
  },
  {
   "cell_type": "code",
   "execution_count": null,
   "metadata": {
    "scrolled": true
   },
   "outputs": [],
   "source": [
    "\"\"\"json_loads(df24['event_attributes'][0])\n",
    "#xx = df24['event_attributes'].apply(lambda x: json.loads(x))\n",
    "#xxx = xx.apply(lambda x: json_normalize(x))\n",
    "#events = pd.DataFrame(xxx)\n",
    "events['event_attributes'][0]\"\"\""
   ]
  },
  {
   "cell_type": "code",
   "execution_count": null,
   "metadata": {},
   "outputs": [],
   "source": [
    "\"\"\"df24 = df24.drop(['event_category', 'analytics_environment', 'batch_id', 'event_id', 'source',\n",
    "                  'source_type', 'event_namespace', 'received_timestamp', 'inserted_timestamp',\n",
    "                  'job_name', 'title_id', 'playfab_environment'], axis=1)\n",
    "\n",
    "df25 = df25.drop(['batch_id', 'event_id', 'received_timestamp', 'inserted_timestamp', 'analytics_environment',\n",
    "                  'event_environment', 'event_index', 'event_source', 'session_id_server', 'session_id_client',\n",
    "                 'worker_id', 'playfab_source_type', 'job_name'], axis=1)\"\"\""
   ]
  },
  {
   "cell_type": "code",
   "execution_count": null,
   "metadata": {},
   "outputs": [],
   "source": [
    "\"\"\"xx = df24['event_attributes'].apply(lambda x: json.loads(x))\n",
    "\n",
    "xx = pd.DataFrame(xx)\n",
    "df24_2 = xx['event_attributes'].apply(pd.Series)\n",
    "\n",
    "df24_3 = df24_2.eventAttributes.apply(pd.Series)\n",
    "\n",
    "df24_4 = df24_3.position_interaction.apply(pd.Series)\n",
    "\n",
    "df = df24_4.dropna(axis=0, how='all')\"\"\""
   ]
  },
  {
   "cell_type": "code",
   "execution_count": null,
   "metadata": {},
   "outputs": [],
   "source": [
    "\"\"\"event1 = (df25['event_attributes'][df25['event_attributes'].isna()==False])\n",
    "\n",
    "event1 = pd.DataFrame(event1)\n",
    "event1 = pd.DataFrame(event1['event_attributes'].apply(lambda x: json.loads(x)))\n",
    "\n",
    "player_info = event1['event_attributes'].apply(pd.Series)\n",
    "\n",
    "player_info.columns\n",
    "\n",
    "player_info['position'] = player_info['position'].dropna(axis=0, how='all', inplace=True)\"\"\""
   ]
  },
  {
   "cell_type": "code",
   "execution_count": null,
   "metadata": {},
   "outputs": [],
   "source": []
  },
  {
   "cell_type": "code",
   "execution_count": null,
   "metadata": {},
   "outputs": [],
   "source": [
    "df25 = pd.read_csv('C:/Users/aciag/ih/FINAL_project/raw_data/events_batch_automatic_view_raw.csv')\n",
    "df25.drop(columns=['Unnamed: 0'],axis=1,inplace=True)"
   ]
  },
  {
   "cell_type": "code",
   "execution_count": null,
   "metadata": {},
   "outputs": [],
   "source": [
    "dct_na='{\"entity_id_target\":-1,\"entity_class_target\":\"\",\"entity_id_causer\":-1,\"entity_class_causer\":\"\",\"character_id_causer\":-1,\"player_id_causer\":\"\",\"db_user_id_causer\":-1,\"position_target\":{\"x\":-1,\"y\":-1,\"z\":-1},\"position_causer\":{\"x\":-1,\"y\":-1,\"z\":-1},\"current_health\":-1,\"current_shield\":-1,\"health_damage\":-1,\"shield_damage\":-1,\"total_damage\":-1,\"killed\":false,\"damage_type\":\"\",\"combat_type\":\"\"}'"
   ]
  },
  {
   "cell_type": "code",
   "execution_count": null,
   "metadata": {},
   "outputs": [],
   "source": [
    "df25['event_attributes'].fillna(dct_na,inplace=True)"
   ]
  },
  {
   "cell_type": "code",
   "execution_count": null,
   "metadata": {},
   "outputs": [],
   "source": [
    "xx = df25['event_attributes'].apply(lambda x: json.loads(x))\n",
    "\n",
    "xx = pd.DataFrame(xx)\n",
    "df25_2 = xx['event_attributes'].apply(pd.Series)\n",
    "\n",
    "df25_3 = df25_2.position_interaction.apply(pd.Series)\n",
    "\n",
    "df = df25_3.dropna(axis=0, how='all')"
   ]
  },
  {
   "cell_type": "code",
   "execution_count": null,
   "metadata": {},
   "outputs": [],
   "source": [
    "df25_2.dtypes[~df25_2.dtypes.isin(['float64','int64'])]"
   ]
  },
  {
   "cell_type": "code",
   "execution_count": null,
   "metadata": {},
   "outputs": [],
   "source": [
    "df25.event_attributes[111324]"
   ]
  },
  {
   "cell_type": "code",
   "execution_count": null,
   "metadata": {},
   "outputs": [],
   "source": []
  },
  {
   "cell_type": "code",
   "execution_count": null,
   "metadata": {},
   "outputs": [],
   "source": [
    "dft = pd.concat([df,df25], axis=1)"
   ]
  },
  {
   "cell_type": "code",
   "execution_count": null,
   "metadata": {},
   "outputs": [],
   "source": [
    "df.reset_index(inplace=True)"
   ]
  },
  {
   "cell_type": "code",
   "execution_count": null,
   "metadata": {},
   "outputs": [],
   "source": [
    "df25.reset_index(inplace=True)"
   ]
  },
  {
   "cell_type": "code",
   "execution_count": null,
   "metadata": {},
   "outputs": [],
   "source": [
    "df_omg = df.merge(df25, on='index')"
   ]
  },
  {
   "cell_type": "code",
   "execution_count": null,
   "metadata": {},
   "outputs": [],
   "source": [
    "df_omg.to_csv('unwrapped_data.csv')"
   ]
  },
  {
   "cell_type": "code",
   "execution_count": null,
   "metadata": {},
   "outputs": [],
   "source": [
    "data = pd.read_csv('C:/Users/aciag/ih/FINAL_project/data/unwrapped_data.csv')"
   ]
  },
  {
   "cell_type": "code",
   "execution_count": null,
   "metadata": {},
   "outputs": [],
   "source": [
    "data"
   ]
  },
  {
   "cell_type": "code",
   "execution_count": null,
   "metadata": {},
   "outputs": [],
   "source": [
    "data.deployment_name.value_counts()"
   ]
  },
  {
   "cell_type": "code",
   "execution_count": null,
   "metadata": {},
   "outputs": [],
   "source": [
    "# event_type - single value, meaningless\n",
    "# event_class - single value\n",
    "data = data.drop(['Unnamed: 0', '0', 'batch_id', 'event_id', 'event_type', 'session_id_server',\n",
    "           'session_id_client', 'worker_id', 'playfab_source_type', 'playfab_event_name',\n",
    "          'job_name', 'event_environment', 'analytics_environment', 'event_source', 'event_class',\n",
    "                 ], axis=1)\n",
    "\n",
    "data.sample(2)"
   ]
  },
  {
   "cell_type": "code",
   "execution_count": null,
   "metadata": {},
   "outputs": [],
   "source": [
    "data.event_attributes[0]"
   ]
  },
  {
   "cell_type": "code",
   "execution_count": null,
   "metadata": {},
   "outputs": [],
   "source": []
  },
  {
   "cell_type": "code",
   "execution_count": null,
   "metadata": {},
   "outputs": [],
   "source": [
    "dct_na='{\"entity_id_interactor\":-1,\"entity_class_interactor\":\"\",\"character_id_interactor\":-1,\"player_id_interactor\":\"\",\"db_user_id_interactor\":-1,\"entity_id_interactable\":-1,\"entity_class_interactable\":\"\",\"position_interactor\":{\"x\":-1,\"y\":-1,\"z\":-1},\"position_interactable\":{\"x\":-1,\"y\":-1,\"z\":-1},\"position_interaction\":{\"x\":-1,\"y\":-1,\"z\":-1},\"interaction_name\":\"\"}'"
   ]
  },
  {
   "cell_type": "code",
   "execution_count": null,
   "metadata": {},
   "outputs": [],
   "source": [
    "data['event_attributes'].fillna(dct_na,inplace=True)"
   ]
  },
  {
   "cell_type": "code",
   "execution_count": null,
   "metadata": {},
   "outputs": [],
   "source": [
    "xx = data['event_attributes'].apply(lambda x: json.loads(x))\n",
    "\n",
    "xx = pd.DataFrame(xx)\n",
    "data_2 = xx['event_attributes'].apply(pd.Series)\n",
    "\n",
    "data_3 = data_2.position_interaction.apply(pd.Series)\n",
    "\n",
    "data1 = data_3.dropna(axis=0, how='all')"
   ]
  },
  {
   "cell_type": "code",
   "execution_count": null,
   "metadata": {},
   "outputs": [],
   "source": [
    "data1.to_csv('coords2.csv')"
   ]
  },
  {
   "cell_type": "code",
   "execution_count": null,
   "metadata": {},
   "outputs": [],
   "source": []
  },
  {
   "cell_type": "code",
   "execution_count": null,
   "metadata": {},
   "outputs": [],
   "source": [
    "\"\"\"\n",
    "calc amount of wins per driver, sorting descending\n",
    "\"\"\"\n",
    "gp_wins_table=['Date','Car','Laps','Time']\n",
    "\n",
    "gp_wins=(df.groupby('Driver').count()).drop(gp_wins_table, axis=1)\n",
    "gp_wins1=gp_wins.sort_values('Grand Prix',ascending=False)\n",
    "gp_wins1=gp_wins1.rename(columns={'Grand Prix':'Number of wins'})\n",
    "gp_wins1\n",
    "\n",
    "\n",
    "\"\"\"\n",
    "calc amount of wins per team, sorting descending\n",
    "lacking RegEx(?) to differentiate between Team\\Engine supplier\n",
    "\"\"\"\n",
    "team_wins_table=['Date','Driver','Laps','Time']\n",
    "\n",
    "team_wins=(df.groupby('Car').count()).drop(team_wins_table, axis=1)\n",
    "team_wins1=team_wins.sort_values('Grand Prix',ascending=False)\n",
    "team_wins1=team_wins1.rename(columns={'Grand Prix':'Amount of wins'})\n",
    "team_wins1.head(7)\n",
    "\n",
    "\"\"\"\n",
    "visualize Driver wins and Team wins\n",
    "\"\"\"\n",
    "team_wins1.head(10).plot.barh(figsize=(10,10), title='Wins per team', rot=0, width=0.5, fontsize=22, position=0).invert_yaxis()\n",
    "\n",
    "gp_wins1.head(10).plot.barh(figsize=(10,10), align='center', title='Wins per driver', rot=0, width=0.5, fontsize=22, position=0).invert_yaxis()\n",
    "\n",
    "\n",
    "os.chdir(\"C:/Users/aciag/ih/Week3_project/output/\")\n",
    "\n",
    "gp_wins1.head(10).plot.barh(figsize=(10,10), title='Wins per driver', rot=0, width=0.5, fontsize=22, position=0).invert_yaxis()\n",
    "plt.savefig(\"Top_F1_drivers333.png\", dpi=200, quality=95, bbox_inches='tight')\n",
    "print(\"csv file and graph are saved!\")\n",
    "\n",
    "\n",
    "\n",
    "sns.jointplot(x='age',y='overall',data=df1)\n",
    "\n",
    "\n"
   ]
  },
  {
   "cell_type": "code",
   "execution_count": null,
   "metadata": {},
   "outputs": [],
   "source": [
    "sns.set(style='darkgrid', color_codes=True, rc={'figure.figsize':(10,5)})\n",
    "sns.countplot('Winner', data=df, palette=\"Reds_r\")\n",
    "\n",
    "plt.show();\n",
    "\n"
   ]
  },
  {
   "cell_type": "markdown",
   "metadata": {},
   "source": [
    "#### Minor cleaning"
   ]
  },
  {
   "cell_type": "code",
   "execution_count": null,
   "metadata": {},
   "outputs": [],
   "source": [
    "coords1 = pd.read_csv('C:/Users/aciag/ih/FINAL_project/data/coords2.csv')\n",
    "data = pd.read_csv('C:/Users/aciag/ih/FINAL_project/data/playtesters_clean.csv')"
   ]
  },
  {
   "cell_type": "code",
   "execution_count": null,
   "metadata": {},
   "outputs": [],
   "source": [
    "coords1 = coords1.drop(['Unnamed: 0'],axis=1)"
   ]
  },
  {
   "cell_type": "code",
   "execution_count": null,
   "metadata": {},
   "outputs": [],
   "source": [
    "data = data.drop(['Unnamed: 0'],axis=1)"
   ]
  },
  {
   "cell_type": "code",
   "execution_count": null,
   "metadata": {},
   "outputs": [],
   "source": [
    "#data['Influencer'].fillna(0, inplace=True)\n",
    "#data['Influencer'] = data['Influencer'].map({'False': 0, 'True': 1})"
   ]
  },
  {
   "cell_type": "code",
   "execution_count": null,
   "metadata": {},
   "outputs": [],
   "source": [
    "data['Influencer'] = data['Influencer'].replace(np.nan, 0)\n",
    "data['Influencer'] = data['Influencer'].replace(False, 0)\n",
    "data['Influencer'] = data['Influencer'].replace(True, 1)"
   ]
  },
  {
   "cell_type": "code",
   "execution_count": null,
   "metadata": {},
   "outputs": [],
   "source": [
    "data['Wave'] = data['Wave'].replace(np.nan, 0)\n",
    "data['Status'] = data['Status'].replace(np.nan, 0)\n",
    "\n",
    "data['Agree_to_help'] = data['Agree_to_help'].replace(np.nan, 0)\n",
    "data['Agree_to_help'] = data['Agree_to_help'].replace('Yes', 1)\n",
    "data['Agree_to_help'] = data['Agree_to_help'].replace('No', 1)\n",
    "\n",
    "data['Community_member'] = data['Community_member'].replace(np.nan, -1)\n",
    "data['Community_member'] = data['Community_member'].replace('No - I\\'m not involved or part of any online gaming communities.', 0)\n",
    "data['Community_member'] = data['Community_member'].replace('Yes - I\\'m part of many gaming community but not that active in any of them.', 1)\n",
    "data['Community_member'] = data['Community_member'].replace('Yes - I\\'m part of many gaming communities but not that active in any of them.', 1)\n",
    "\n",
    "data['Community_member'] = data['Community_member'].replace('Yes - I\\'m part of a gaming community but not that active.', 2)\n",
    "data['Community_member'] = data['Community_member'].replace('Yes - I\\'m an active part of an existing gaming community and frequently communicate and play with other community members', 3)\n",
    "data['Community_member'] = data['Community_member'].replace('Yes - I am or have been a moderator.', 4)\n",
    "\n",
    "data['Platform'] = data['Platform'].replace('PC', 3)\n",
    "data['Platform'] = data['Platform'].replace('Multiplatform - I play how I want based on when I want', 2)\n",
    "data['Platform'] = data['Platform'].replace('Console', 1)\n",
    "data['Platform'] = data['Platform'].replace('Mobile', 0)\n",
    "\n",
    "data['Grand Theft Auto Online'] = data['Grand Theft Auto Online'].replace('Grand Theft Auto Online', 1)\n",
    "data['Grand Theft Auto Online'] = data['Grand Theft Auto Online'].replace(np.nan, 0)\n",
    "\n",
    "data['Assassin\\'s Creed Odyssey'] = data['Assassin\\'s Creed Odyssey'].replace('Assassin\\'s Creed Odyssey', 1)\n",
    "data['Assassin\\'s Creed Odyssey'] = data['Assassin\\'s Creed Odyssey'].replace(np.nan, 0)\n",
    "\n",
    "data['World of Warcraft'] = data['World of Warcraft'].replace('World of Warcraft', 1)\n",
    "data['World of Warcraft'] = data['World of Warcraft'].replace(np.nan, 0)\n",
    "\n",
    "data['ARK: Survival Evolved'] = data['ARK: Survival Evolved'].replace('ARK: Survival Evolved', 1)\n",
    "data['ARK: Survival Evolved'] = data['ARK: Survival Evolved'].replace(np.nan, 0)\n",
    "\n",
    "data['Playing_with_friends'] = data['Playing_with_friends'].replace('My online community of friends (guilds, clans, squads, etc.)', 3)\n",
    "data['Playing_with_friends'] = data['Playing_with_friends'].replace('My IRL friends', 2)\n",
    "data['Playing_with_friends'] = data['Playing_with_friends'].replace('No preference', 1)\n",
    "data['Playing_with_friends'] = data['Playing_with_friends'].replace('I prefer single player games', 0)\n",
    "data['Playing_with_friends'] = data['Playing_with_friends'].replace(np.nan, 0)\n",
    "\n",
    "data['pvp'] = data['pvp'].replace('Competition is fun.', 3)\n",
    "data['pvp'] = data['pvp'].replace('PvP is OK but not the main reason I play games.', 2)\n",
    "data['pvp'] = data['pvp'].replace('I\\'m here to crush my enemies and see them suffer!', 4)\n",
    "data['pvp'] = data['pvp'].replace('I don\\'t like PvP and avoid it like the plague.', 1)\n",
    "data['pvp'] = data['pvp'].replace(np.nan, 0)\n",
    "\n",
    "data['Status'] = data['Status'].replace('Onboarding', 1)\n",
    "data['Status'] = data['Status'].replace('Activated', 2)\n",
    "data['Status'] = data['Status'].replace('Selected', 3)\n",
    "data['Status'] = data['Status'].replace('Ghosted', 0)\n",
    "data['Status'] = data['Status'].replace('Duplicated', 4)\n",
    "data['Status'] = data['Status'].replace('Banned', 5)\n",
    "data['Status'] = data['Status'].replace('Darewise', 7)\n",
    "data['Status'] = data['Status'].replace('Booked', 6)\n",
    "\n",
    "data['Age'] = data['Age'].replace('Under 18', 1)\n",
    "data['Age'] = data['Age'].replace('18-24', 2)\n",
    "data['Age'] = data['Age'].replace('25-34', 3)\n",
    "data['Age'] = data['Age'].replace('35-44', 4)\n",
    "data['Age'] = data['Age'].replace('45-54', 5)\n",
    "data['Age'] = data['Age'].replace('55-64', 6)\n",
    "data['Age'] = data['Age'].replace('65+', 7)\n",
    "data['Age'] = data['Age'].replace(np.nan, 0)"
   ]
  },
  {
   "cell_type": "code",
   "execution_count": null,
   "metadata": {},
   "outputs": [],
   "source": [
    "data = data.fillna(0)"
   ]
  },
  {
   "cell_type": "markdown",
   "metadata": {},
   "source": [
    "### Models"
   ]
  },
  {
   "cell_type": "code",
   "execution_count": null,
   "metadata": {},
   "outputs": [],
   "source": [
    "# Training\n",
    "from sklearn.model_selection import train_test_split"
   ]
  },
  {
   "cell_type": "code",
   "execution_count": null,
   "metadata": {},
   "outputs": [],
   "source": [
    "dt = data.drop(columns=['Agree_to_help', 'Currently_playing'])\n",
    "target = data['Agree_to_help']"
   ]
  },
  {
   "cell_type": "code",
   "execution_count": null,
   "metadata": {},
   "outputs": [],
   "source": [
    "data_train, data_test, target_train, target_test = train_test_split(dt,target, test_size = 0.30, random_state = 42)"
   ]
  },
  {
   "cell_type": "code",
   "execution_count": null,
   "metadata": {},
   "outputs": [],
   "source": [
    "# NBayes\n",
    "from sklearn.naive_bayes import GaussianNB\n",
    "\n",
    "from sklearn.metrics import accuracy_score\n",
    "from sklearn.metrics import auc,confusion_matrix\n",
    "\n",
    "from sklearn.metrics import roc_auc_score, roc_curve"
   ]
  },
  {
   "cell_type": "code",
   "execution_count": null,
   "metadata": {},
   "outputs": [],
   "source": [
    "gnb = GaussianNB()\n",
    "model1 = gnb.fit(data_train, target_train).predict(data_test)\n",
    "print(\"NBayes accuracy is \", accuracy_score(target_test, model1, normalize=True))"
   ]
  },
  {
   "cell_type": "code",
   "execution_count": null,
   "metadata": {},
   "outputs": [],
   "source": [
    "conf1=confusion_matrix(target_test,model1)\n",
    "conf1"
   ]
  },
  {
   "cell_type": "code",
   "execution_count": null,
   "metadata": {},
   "outputs": [],
   "source": [
    "sns.set(rc={'figure.figsize':(17,8)})"
   ]
  },
  {
   "cell_type": "code",
   "execution_count": null,
   "metadata": {},
   "outputs": [],
   "source": [
    "model1_roc=roc_auc_score(target_test,model1)\n",
    "fpr,tpr,thresholds=roc_curve(target_test, gnb.predict_proba(data_test)[:,1])\n",
    "\n",
    "\n",
    "plt.figure()\n",
    "plt.plot(fpr,tpr,label=f'Model1 (area={model1_roc})')\n",
    "plt.plot([0,1],[0,1])\n",
    "plt.legend()\n",
    "plt.show()"
   ]
  },
  {
   "cell_type": "code",
   "execution_count": null,
   "metadata": {},
   "outputs": [],
   "source": [
    "#LinearSVC\n",
    "from sklearn.svm import LinearSVC\n",
    "#from sklearn.metrics import accuracy_score"
   ]
  },
  {
   "cell_type": "code",
   "execution_count": null,
   "metadata": {},
   "outputs": [],
   "source": [
    "svc_model = LinearSVC(max_iter=10000, random_state=42)\n",
    "model2 = svc_model.fit(data_train, target_train).predict(data_test)\n",
    "print(\"LinearSVC acciracy is \", accuracy_score(target_test, model2, normalize=True))"
   ]
  },
  {
   "cell_type": "code",
   "execution_count": null,
   "metadata": {},
   "outputs": [],
   "source": [
    "conf2=confusion_matrix(target_test,model2)\n",
    "conf2"
   ]
  },
  {
   "cell_type": "code",
   "execution_count": null,
   "metadata": {},
   "outputs": [],
   "source": [
    "# KNeighbors\n",
    "from sklearn.neighbors import KNeighborsClassifier\n",
    "#from sklearn.metrics import accuracy_score"
   ]
  },
  {
   "cell_type": "code",
   "execution_count": null,
   "metadata": {},
   "outputs": [],
   "source": [
    "knb = KNeighborsClassifier(n_neighbors=25)\n",
    "knb.fit(data_train, target_train)\n",
    "model3 = knb.predict(data_test)\n",
    "print(\"KNeighbors accuracy is \", accuracy_score(target_test, model3))"
   ]
  },
  {
   "cell_type": "code",
   "execution_count": null,
   "metadata": {},
   "outputs": [],
   "source": [
    "conf3=confusion_matrix(target_test,model3)\n",
    "conf3"
   ]
  },
  {
   "cell_type": "code",
   "execution_count": null,
   "metadata": {},
   "outputs": [],
   "source": [
    "model3_roc=roc_auc_score(target_test,model3)\n",
    "fpr,tpr,thresholds=roc_curve(target_test, knb.predict_proba(data_test)[:,1])\n",
    "\n",
    "plt.figure()\n",
    "plt.plot(fpr,tpr,label=f'Model3 (area={model3_roc})')\n",
    "plt.plot([0,1],[0,1])\n",
    "plt.legend()\n",
    "plt.show()"
   ]
  },
  {
   "cell_type": "code",
   "execution_count": null,
   "metadata": {},
   "outputs": [],
   "source": [
    "from sklearn.linear_model import LogisticRegression"
   ]
  },
  {
   "cell_type": "code",
   "execution_count": null,
   "metadata": {},
   "outputs": [],
   "source": [
    "model4=LogisticRegression(max_iter=10000, solver='liblinear')\n",
    "res4=model4.fit(data_train,target_train)\n",
    "pred4=model4.predict(data_test)\n",
    "\n",
    "print(\"LogisticRegression accuracy is \", accuracy_score(target_test, pred4))"
   ]
  },
  {
   "cell_type": "code",
   "execution_count": null,
   "metadata": {},
   "outputs": [],
   "source": [
    "conf4=confusion_matrix(target_test,pred4)\n",
    "conf4"
   ]
  },
  {
   "cell_type": "code",
   "execution_count": null,
   "metadata": {},
   "outputs": [],
   "source": [
    "model4_roc=roc_auc_score(target_test,pred4)\n",
    "fpr,tpr,thresholds=roc_curve(target_test, model4.predict_proba(data_test)[:,1])\n",
    "\n",
    "plt.figure()\n",
    "plt.plot(fpr,tpr,label=f'Model4 (area={model4_roc})')\n",
    "plt.plot([0,1],[0,1])\n",
    "plt.legend()\n",
    "plt.show()"
   ]
  },
  {
   "cell_type": "code",
   "execution_count": null,
   "metadata": {},
   "outputs": [],
   "source": [
    "from sklearn.tree import DecisionTreeClassifier"
   ]
  },
  {
   "cell_type": "code",
   "execution_count": null,
   "metadata": {},
   "outputs": [],
   "source": [
    "model5=DecisionTreeClassifier(class_weight='balanced')\n",
    "res5=model5.fit(data_train,target_train)\n",
    "pred5=model5.predict(data_test)\n",
    "\n",
    "print(\"DecisionTreeClassifier accuracy is \", accuracy_score(target_test, pred5))"
   ]
  },
  {
   "cell_type": "code",
   "execution_count": null,
   "metadata": {},
   "outputs": [],
   "source": [
    "conf5=confusion_matrix(target_test,pred5)\n",
    "conf5"
   ]
  },
  {
   "cell_type": "code",
   "execution_count": null,
   "metadata": {},
   "outputs": [],
   "source": [
    "model5_roc=roc_auc_score(target_test,pred5)\n",
    "fpr,tpr,thresholds=roc_curve(target_test, model5.predict_proba(data_test)[:,1])\n",
    "\n",
    "plt.figure()\n",
    "plt.plot(fpr,tpr,label=f'Model5 (area={model5_roc})')\n",
    "plt.plot([0,1],[0,1])\n",
    "plt.legend()\n",
    "plt.show()"
   ]
  },
  {
   "cell_type": "code",
   "execution_count": null,
   "metadata": {},
   "outputs": [],
   "source": [
    "from sklearn.ensemble import RandomForestClassifier"
   ]
  },
  {
   "cell_type": "code",
   "execution_count": null,
   "metadata": {},
   "outputs": [],
   "source": [
    "model6=RandomForestClassifier(class_weight='balanced')\n",
    "res6=model6.fit(data_train,target_train)\n",
    "pred6=model6.predict(data_test)\n",
    "\n",
    "print(\"RandomForestClassifier accuracy is \", accuracy_score(target_test, pred6))"
   ]
  },
  {
   "cell_type": "code",
   "execution_count": null,
   "metadata": {},
   "outputs": [],
   "source": [
    "conf6=confusion_matrix(target_test,pred6)\n",
    "conf6"
   ]
  },
  {
   "cell_type": "code",
   "execution_count": null,
   "metadata": {},
   "outputs": [],
   "source": [
    "model6_roc=roc_auc_score(target_test,pred6)\n",
    "fpr,tpr,thresholds=roc_curve(target_test, model6.predict_proba(data_test)[:,1])\n",
    "\n",
    "plt.figure()\n",
    "plt.plot(fpr,tpr,label=f'Model6 (area={model6_roc})')\n",
    "plt.plot([0,1],[0,1])\n",
    "plt.legend()\n",
    "plt.show()"
   ]
  },
  {
   "cell_type": "code",
   "execution_count": null,
   "metadata": {},
   "outputs": [],
   "source": [
    "from sklearn.svm import SVC"
   ]
  },
  {
   "cell_type": "code",
   "execution_count": null,
   "metadata": {},
   "outputs": [],
   "source": [
    "model7=SVC(probability=True)\n",
    "res7=model7.fit(data_train, target_train)\n",
    "pred7=model7.predict(data_test)\n",
    "\n",
    "print(\"SVC accuracy is \", accuracy_score(target_test, pred7))"
   ]
  },
  {
   "cell_type": "code",
   "execution_count": null,
   "metadata": {},
   "outputs": [],
   "source": [
    "conf7=confusion_matrix(target_test,pred7)\n",
    "conf7"
   ]
  },
  {
   "cell_type": "code",
   "execution_count": null,
   "metadata": {},
   "outputs": [],
   "source": [
    "model7_roc=roc_auc_score(target_test,pred7)\n",
    "fpr,tpr,thresholds=roc_curve(target_test, model7.predict_proba(data_test)[:,1])\n",
    "\n",
    "plt.figure()\n",
    "plt.plot(fpr,tpr,label=f'Model7 (area={model7_roc})')\n",
    "plt.plot([0,1],[0,1])\n",
    "plt.legend()\n",
    "plt.show()"
   ]
  },
  {
   "cell_type": "code",
   "execution_count": null,
   "metadata": {},
   "outputs": [],
   "source": [
    "from sklearn.svm import NuSVC"
   ]
  },
  {
   "cell_type": "code",
   "execution_count": null,
   "metadata": {},
   "outputs": [],
   "source": [
    "model8=NuSVC(nu=0.2,probability=True, gamma='scale')\n",
    "res8=model8.fit(data_train,target_train)\n",
    "pred8=model8.predict(data_test)\n",
    "\n",
    "print(\"SVC accuracy is \", accuracy_score(target_test, pred8))"
   ]
  },
  {
   "cell_type": "code",
   "execution_count": null,
   "metadata": {},
   "outputs": [],
   "source": [
    "conf8=confusion_matrix(target_test,pred8)\n",
    "conf8"
   ]
  },
  {
   "cell_type": "code",
   "execution_count": null,
   "metadata": {},
   "outputs": [],
   "source": [
    "model8_roc=roc_auc_score(target_test,pred8)\n",
    "fpr,tpr,thresholds=roc_curve(target_test, model8.predict_proba(data_test)[:,1])\n",
    "\n",
    "plt.figure()\n",
    "plt.plot(fpr,tpr,label=f'Model8 (area={model8_roc})')\n",
    "plt.plot([0,1],[0,1])\n",
    "plt.legend()\n",
    "plt.show()"
   ]
  },
  {
   "cell_type": "code",
   "execution_count": null,
   "metadata": {},
   "outputs": [],
   "source": [
    "from sklearn.metrics import accuracy_score, recall_score, precision_score, f1_score"
   ]
  },
  {
   "cell_type": "code",
   "execution_count": null,
   "metadata": {},
   "outputs": [],
   "source": [
    "print(accuracy_score(target_test, model1))\n",
    "print(accuracy_score(target_test, model2))\n",
    "print(accuracy_score(target_test, model3))\n",
    "print(accuracy_score(target_test, pred4))\n",
    "print(accuracy_score(target_test, pred5))\n",
    "print(accuracy_score(target_test, pred6))\n",
    "print(accuracy_score(target_test, pred7))\n",
    "print(accuracy_score(target_test, pred8))"
   ]
  },
  {
   "cell_type": "code",
   "execution_count": null,
   "metadata": {},
   "outputs": [],
   "source": [
    "print(recall_score(target_test, model1))\n",
    "print(recall_score(target_test, model2))\n",
    "print(recall_score(target_test, model3))\n",
    "print(recall_score(target_test, pred4))\n",
    "print(recall_score(target_test, pred5))\n",
    "print(recall_score(target_test, pred6))\n",
    "print(recall_score(target_test, pred7))\n",
    "print(recall_score(target_test, pred8))"
   ]
  },
  {
   "cell_type": "code",
   "execution_count": null,
   "metadata": {},
   "outputs": [],
   "source": [
    "print(precision_score(target_test, model1))\n",
    "print(precision_score(target_test, model2))\n",
    "print(precision_score(target_test, model3))\n",
    "print(precision_score(target_test, pred4))\n",
    "print(precision_score(target_test, pred5))\n",
    "print(precision_score(target_test, pred6))\n",
    "print(precision_score(target_test, pred7))\n",
    "print(precision_score(target_test, pred8))"
   ]
  },
  {
   "cell_type": "code",
   "execution_count": null,
   "metadata": {},
   "outputs": [],
   "source": [
    "print(f1_score(target_test, model1))\n",
    "print(f1_score(target_test, model2))\n",
    "print(f1_score(target_test, model3))\n",
    "print(f1_score(target_test, pred4))\n",
    "print(f1_score(target_test, pred5))\n",
    "print(f1_score(target_test, pred6))\n",
    "print(f1_score(target_test, pred7))\n",
    "print(f1_score(target_test, pred8))"
   ]
  },
  {
   "cell_type": "code",
   "execution_count": null,
   "metadata": {},
   "outputs": [],
   "source": [
    "print(model1_roc)\n",
    "print('roc for model2 is not possible')\n",
    "print(model3_roc)\n",
    "print(model4_roc)\n",
    "print(model5_roc)\n",
    "print(model6_roc)\n",
    "print(model7_roc)\n",
    "print(model8_roc)"
   ]
  },
  {
   "cell_type": "code",
   "execution_count": null,
   "metadata": {},
   "outputs": [],
   "source": []
  }
 ],
 "metadata": {
  "kernelspec": {
   "display_name": "Python 3",
   "language": "python",
   "name": "python3"
  },
  "language_info": {
   "codemirror_mode": {
    "name": "ipython",
    "version": 3
   },
   "file_extension": ".py",
   "mimetype": "text/x-python",
   "name": "python",
   "nbconvert_exporter": "python",
   "pygments_lexer": "ipython3",
   "version": "3.7.6"
  }
 },
 "nbformat": 4,
 "nbformat_minor": 4
}
